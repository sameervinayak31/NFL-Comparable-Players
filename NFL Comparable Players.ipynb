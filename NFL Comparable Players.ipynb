{
 "cells": [
  {
   "cell_type": "markdown",
   "metadata": {},
   "source": [
    "# NFL Comparisons\n",
    "#### In this notebook, I explore using a simple euclidean distance between NFL combine and NCAA season stats to generate a list of 'best comparables' for all NFL players since the inputted year. Only QB, RB, WR, and TEs are used year because...they're more interesting.. and participate in more Combine events than say offensive linemen."
   ]
  },
  {
   "cell_type": "code",
   "execution_count": 1,
   "metadata": {
    "collapsed": true
   },
   "outputs": [],
   "source": [
    "%matplotlib inline\n",
    "\n",
    "import matplotlib.pyplot as plt\n",
    "import seaborn as sns\n",
    "import pandas as pd\n",
    "import numpy as np\n",
    "import re\n",
    "import time\n",
    "\n",
    "import math\n",
    "from sklearn.preprocessing import normalize\n",
    "from scipy.spatial import distance\n",
    "\n",
    "from urllib2 import urlopen\n",
    "from bs4 import BeautifulSoup"
   ]
  },
  {
   "cell_type": "markdown",
   "metadata": {},
   "source": [
    "#### The getCombineStats function uses BeautifulSoup to scrape NFL combine metrics from pro-football-reference pages like https://www.pro-football-reference.com/draft/2017-combine.htm. The neat format on the website requires some cleaning and formatting once importing, which is done in the cleanDf function. \n"
   ]
  },
  {
   "cell_type": "code",
   "execution_count": 2,
   "metadata": {
    "collapsed": true
   },
   "outputs": [],
   "source": [
    "def getCombineStats(year):\n",
    "    allData = []\n",
    "    collegeLinks = []\n",
    "    url = 'https://www.pro-football-reference.com/draft/' + str(year) + '-combine.htm'\n",
    "    html = urlopen(url)\n",
    "    soup = BeautifulSoup(html, \"lxml\")\n",
    "    column_headers = [th.getText() for th in \n",
    "                  soup.findAll('tr', limit=2)[0].findAll('th')]\n",
    "    column_headers = [x.encode('UTF8') for x in column_headers]\n",
    "    table_rows = soup.select(\"#div_combine tr\")[2:]\n",
    "    for row in table_rows:\n",
    "        indiv_list = []\n",
    "        for th in row.find_all('th'):\n",
    "            indiv_list.append(str(th.get_text()))\n",
    "        for td in row.find_all('td'):\n",
    "            indiv_list.append(str(td.get_text()))\n",
    "        links = row.find_all('a',href=True)\n",
    "        if (len(links) > 0) & ('sports-reference' in str(links)):\n",
    "            for link in links:\n",
    "                if 'sports-reference' in str(link):\n",
    "                    indiv_list.append(link['href'])\n",
    "        else:\n",
    "            indiv_list.append('No Link')\n",
    "        allData.append(indiv_list)\n",
    "    column_headers.append('College Stats Link')\n",
    "    data = pd.DataFrame(allData,columns=column_headers)\n",
    "    data['Year'] = np.repeat(year,len(data))\n",
    "    data = data[(data['Pos'] == 'QB') | (data['Pos'] == 'RB') | (data['Pos'] == 'WR') | (data['Pos'] == 'TE')]\n",
    "    return data\n",
    "    "
   ]
  },
  {
   "cell_type": "code",
   "execution_count": 3,
   "metadata": {
    "collapsed": true
   },
   "outputs": [],
   "source": [
    "def cleanDF(data):\n",
    "    data.reset_index(inplace=True)\n",
    "    data.drop('index',axis=1,inplace=True)\n",
    "    data = data.replace('',np.nan)\n",
    "    \n",
    "    data['Wt'] = data['Wt'].astype(float)\n",
    "    data['40yd'] = data['40yd'].astype(float)\n",
    "    data['Vertical'] = data['Vertical'].astype(float)\n",
    "    data['BenchReps'] = data['Bench'].astype(float)\n",
    "    data['BroadJump'] = data['Broad Jump'].astype(float)\n",
    "    data['3Cone'] = data['3Cone'].astype(float)\n",
    "    data['Shuttle'] = data['Shuttle'].astype(float)\n",
    "    \n",
    "    Round = []\n",
    "    for i in range(len(data)):\n",
    "        if data['Drafted (tm/rnd/yr)'][i] > 0:\n",
    "            Round.append(int(data['Drafted (tm/rnd/yr)'][i].split('/')[1][1]))\n",
    "        else:\n",
    "            Round.append(np.nan)\n",
    "    data['Round'] = Round\n",
    "\n",
    "    Team = []\n",
    "    for i in range(len(data)):\n",
    "        if data['Drafted (tm/rnd/yr)'][i] > 0:\n",
    "            Team.append(data['Drafted (tm/rnd/yr)'][i].split('/')[0])\n",
    "        else:\n",
    "            Team.append('')\n",
    "    data['Team'] = Team\n",
    "\n",
    "\n",
    "    Pick = []\n",
    "    for i in range(len(data)):\n",
    "        if data['Drafted (tm/rnd/yr)'][i] > 0:\n",
    "            Pick.append(int(data['Drafted (tm/rnd/yr)'][i].split('/')[2].split('pick')[0].strip()[:-2]))\n",
    "        else:\n",
    "            Pick.append(np.nan)\n",
    "    data['Pick'] = Pick\n",
    "    data['Team'] = data['Team'].apply(lambda row: row.strip())\n",
    "    data.drop('Drafted (tm/rnd/yr)',inplace=True,axis = 1)\n",
    "    \n",
    "    def height(row):\n",
    "        return int(row[0])*12 + int(row.split('-')[1])\n",
    "    data['Height'] = data['Ht'].apply(lambda row:height(row))\n",
    "    data.drop('Ht',axis=1,inplace=True)\n",
    "    data.drop('College',axis=1,inplace=True)\n",
    "\n",
    "    return data\n"
   ]
  },
  {
   "cell_type": "markdown",
   "metadata": {},
   "source": [
    "#### The getCollegeStats function uses each season's college passing, rushing, and receiving 'leaderboards' (which contain all players) to piece together each player's total career stats year by year. This was significantly quicker than hitting each player's own stats page. "
   ]
  },
  {
   "cell_type": "code",
   "execution_count": 4,
   "metadata": {
    "collapsed": true
   },
   "outputs": [],
   "source": [
    "def getCollegeStats(category,year):\n",
    "    url = 'https://www.sports-reference.com/cfb/years/' + year + '-' + category + '.html' \n",
    "    html = urlopen(url)\n",
    "    soup = BeautifulSoup(html, \"lxml\")\n",
    "    column_headers = [th.getText() for th in \n",
    "                      soup.findAll('tr', limit=2)[1].findAll('th')]\n",
    "    column_headers = [x.encode('UTF8') for x in column_headers]\n",
    "    column_headers.append('Link')\n",
    "    table_rows = soup.select(\"#div_\" + category + \" tr\")[2:]\n",
    "    innerDF = pd.DataFrame()\n",
    "    for row in table_rows:\n",
    "        indiv_list = []\n",
    "        for th in row.find_all('th'):\n",
    "            indiv_list.append(str(th.get_text()))\n",
    "        for td in row.find_all('td'):\n",
    "            indiv_list.append(str(td.get_text()))\n",
    "        links = row.find_all('a',href=True)\n",
    "        if (len(links) > 0) & ('players' in str(links)):\n",
    "            for link in links:\n",
    "                if 'players' in str(link):\n",
    "                    indiv_list.append(link['href'])\n",
    "        else:\n",
    "            indiv_list.append('No Link')\n",
    "        df = []\n",
    "        df.append(indiv_list)\n",
    "        \n",
    "        \n",
    "\n",
    "        if category == 'rushing':\n",
    "            innerDF = innerDF.append(df)\n",
    "        elif category == 'passing':\n",
    "            innerDF = innerDF.append(df)\n",
    "        elif category == 'receiving':\n",
    "            innerDF = innerDF.append(df)   \n",
    "    if category == 'passing':\n",
    "        column_headers = ['Rank','Player','School','Conf','G','Completions','Pass Att','Comp Pct','Pass Yds','Pass Y/A','Pass AY/A','Pass TD','Int','Rate','Rush Att','Rush Yds','Rush Avg','Rush TD','Link']\n",
    "    elif category == 'rushing':\n",
    "        column_headers = ['Rank','Player','School','Conf','G','Rush att','Rush Yds','Rush Avg','Rush TDs','Rec','Rec Yds','Rec Avg','Rec TDs','Plays','Yds','Avg','TD','Link']\n",
    "    elif category == 'receiving':\n",
    "        column_headers = ['Rank','Player','School','Conf','G','Rec','Rec Yds','Rec Avg','Rec TDs','Rush Att','Rush Yds','Rush Avg','Rush TDs','Plays','Yds','Avg','TD','Link']\n",
    "        \n",
    "    innerDF.columns = [column_headers]\n",
    "    def removeChars(player):\n",
    "        return re.sub(\"[^a-zA-Z -]+\", \"\", player)\n",
    "    innerDF['Player'] = innerDF['Player'].apply(lambda x:removeChars(x))\n",
    "    \n",
    "    innerDF = innerDF[innerDF['Player'] != 'Player']\n",
    "    if (category == 'rushing') | (category == 'receiving'):\n",
    "        innerDF.drop(['Plays','Yds','Avg','TD'],axis = 1, inplace = True)\n",
    "        \n",
    "    if category == 'rushing':\n",
    "        innerDF[['Rush att','Rush Yds','Rush Avg','Rush TDs','Rec','Rec Yds','Rec Avg','Rec TDs']] = innerDF[['Rush att','Rush Yds','Rush Avg','Rush TDs','Rec','Rec Yds','Rec Avg','Rec TDs']].apply(pd.to_numeric)\n",
    "    elif category == 'receiving':\n",
    "        innerDF[['Rec','Rec Yds','Rec Avg','Rec TDs','Rush Att','Rush Yds','Rush Avg','Rush TDs']] = innerDF[['Rec','Rec Yds','Rec Avg','Rec TDs','Rush Att','Rush Yds','Rush Avg','Rush TDs']].apply(pd.to_numeric)\n",
    "    else:\n",
    "        innerDF[['Completions','Pass Att','Comp Pct','Pass Yds','Pass Y/A','Pass AY/A','Pass TD','Int','Rate','Rush Att','Rush Yds','Rush Avg','Rush TD']] = innerDF[['Completions','Pass Att','Comp Pct','Pass Yds','Pass Y/A','Pass AY/A','Pass TD','Int','Rate','Rush Att','Rush Yds','Rush Avg','Rush TD']].apply(pd.to_numeric)\n",
    "\n",
    "    innerDF['Link'] = 'https://www.sports-reference.com' + innerDF['Link']\n",
    "    innerDF.reset_index(inplace=True)\n",
    "    innerDF.drop(['index','Rank'],inplace=True,axis=1)\n",
    "    \n",
    "    \n",
    "    return innerDF"
   ]
  },
  {
   "cell_type": "markdown",
   "metadata": {},
   "source": [
    "#### The meanStats function takes the mean of each player's seasons for seasons in which a player played at least 10 games. Other methods were considered, such as averaging the final season and best other season, or simply using the best season to show a player's upside. I decided to go with averaging all qualifying seasons to credit players who had more illustrious careers, though this may not necessarily indicate talent. This should be looked into further."
   ]
  },
  {
   "cell_type": "code",
   "execution_count": 5,
   "metadata": {
    "collapsed": true
   },
   "outputs": [],
   "source": [
    "def meanStats(row):\n",
    "    pos = row['Pos']\n",
    "    link = row['College Stats Link']\n",
    "    if ((pos == 'WR') | (pos == 'TE')):\n",
    "        try:\n",
    "            stats = receiving[(receiving['Link'] == link) & (receiving['G'] >= 10)].mean()\n",
    "            stats['Link'] = link\n",
    "            return stats\n",
    "        except:\n",
    "            pass\n",
    "    elif pos == 'RB':\n",
    "        try:\n",
    "            stats = rushing[(receiving['Link'] == link) & (rushing['G'] >= 10)].mean()\n",
    "            stats['Link'] = link\n",
    "            return stats\n",
    "        except:\n",
    "            pass\n",
    "    elif pos == 'QB':\n",
    "        try: \n",
    "            stats = passing[(passing['Link'] == link) & (passing['G'] >= 10)].mean()\n",
    "            stats['Link'] = link\n",
    "            return stats\n",
    "        except:\n",
    "            pass\n"
   ]
  },
  {
   "cell_type": "markdown",
   "metadata": {},
   "source": [
    "#### Finally, the getPlayerComps function actually calculates the Euclidean distance for the desired players versus all other players. First, the different features are normalized to equally weight them before calculating the distance.  \n",
    "\n",
    "#### Then, the Euclidean distance is calculated. To summarize the concept, this is the sum of the square roots of the difference between the normalized values of two players' attributes. This gives us an idea of how close the two players' measurables are while equally weighting each category (which is a strong assumption on its own - maybe 40 time needs to be weighed much more than college YPC for a RB, etc. - to be explored). \n"
   ]
  },
  {
   "cell_type": "code",
   "execution_count": 6,
   "metadata": {
    "collapsed": true
   },
   "outputs": [],
   "source": [
    "def getPlayerComps(player):\n",
    "    playerRow = allYears[allYears['Player'] == str(player)]\n",
    "    #return player\n",
    "    if playerRow['Pos'].any() == 'QB':\n",
    "        data = allYears.copy()\n",
    "        #data = allYears[allYears['Pos'] == 'QB'].copy()\n",
    "        cols = ['40yd','Wt','Height','Comp Pct','Completions','Int','Pass AY/A',\n",
    "               'Pass Att','Pass TD','Pass Yds','Rush Att','Rush Avg','Rush TD','Rush Yds']\n",
    "        df_num = data[cols]\n",
    "        df_num = df_num.apply(pd.to_numeric, errors='ignore')\n",
    "        df_num = (df_num - df_num.mean())/df_num.std()\n",
    "        df_num.fillna(0,inplace=True)\n",
    "        df_num['player'] = data['Player']\n",
    "        player_num = df_num[df_num['player'] == str(player)]\n",
    "        euc = df_num.drop(['player'],axis=1).apply(lambda row: distance.euclidean(row,player_num.drop(['player'],axis=1)),axis=1)\n",
    "        df_num['distance'] = euc\n",
    "        comps = pd.DataFrame(df_num[['player','distance']].sort_values('distance'))\n",
    "        return comps.head(25)\n",
    "    elif playerRow['Pos'].any() == 'RB':\n",
    "        data = allYears.copy()\n",
    "        #data = allYears[allYears['Pos'] == 'RB'].copy()\n",
    "        cols = ['3Cone','40yd','Broad Jump', 'Bench','Wt','Height','Rec','Rec Avg',\n",
    "                'Rec TDs','Rec Yds','Shuttle','Vertical',\n",
    "               'Rush Att','Rush Avg','Rush TD','Rush Yds']\n",
    "        df_num = data[cols]\n",
    "        df_num = df_num.apply(pd.to_numeric, errors='ignore')\n",
    "        df_num = (df_num - df_num.mean())/df_num.std()\n",
    "        df_num.fillna(0,inplace=True)\n",
    "        df_num['player'] = data['Player']\n",
    "        player_num = df_num[df_num['player'] == str(player)]\n",
    "        euc = df_num.drop(['player'],axis=1).apply(lambda row: distance.euclidean(row,player_num.drop(['player'],axis=1)),axis=1)\n",
    "        df_num['distance'] = euc\n",
    "        comps = pd.DataFrame(df_num[['player','distance']].sort_values('distance'))\n",
    "        return comps.head(25)\n",
    "    else:\n",
    "        data = allYears.copy()\n",
    "        #data = allYears[(allYears['Pos'] == 'WR') | (allYears['Pos'] == 'TE')].copy()\n",
    "        cols = ['3Cone','40yd','Broad Jump','Wt','Height','Rec','Rec Avg',\n",
    "                'Rec TDs','Rec Yds','Shuttle','Vertical',\n",
    "               'Rush Att','Rush Avg','Rush TD','Rush Yds']\n",
    "        df_num = data[cols]\n",
    "        df_num = df_num.apply(pd.to_numeric, errors='ignore')\n",
    "        df_num = (df_num - df_num.mean())/df_num.std()\n",
    "        df_num.fillna(0,inplace=True)\n",
    "        df_num['player'] = data['Player']\n",
    "        player_num = df_num[df_num['player'] == str(player)]\n",
    "        euc = df_num.drop(['player'],axis=1).apply(lambda row: distance.euclidean(row,player_num.drop(['player'],axis=1)),axis=1)\n",
    "        df_num['distance'] = euc\n",
    "        comps = pd.DataFrame(df_num[['player','distance']].sort_values('distance'))\n",
    "        return comps.head(25)"
   ]
  },
  {
   "cell_type": "markdown",
   "metadata": {},
   "source": [
    "#### Below, I run all of the functions and do some final cleanup. See below for some example outputs."
   ]
  },
  {
   "cell_type": "code",
   "execution_count": 7,
   "metadata": {},
   "outputs": [
    {
     "name": "stderr",
     "output_type": "stream",
     "text": [
      "/anaconda/lib/python2.7/site-packages/ipykernel_launcher.py:13: UserWarning: Boolean Series key will be reindexed to match DataFrame index.\n",
      "  del sys.path[0]\n"
     ]
    }
   ],
   "source": [
    "#run everything\n",
    "allYears = pd.DataFrame()\n",
    "rangeStart = 2010\n",
    "rangeEnd = 2018\n",
    "years = np.arange(rangeStart,rangeEnd + 1,1)\n",
    "for year in years:\n",
    "    df = getCombineStats(year)\n",
    "    allYears = allYears.append(df)\n",
    "allYears = cleanDF(allYears)\n",
    "\n",
    "#college stats\n",
    "types = ['rushing','passing','receiving']\n",
    "\n",
    "rushing = pd.DataFrame()\n",
    "passing = pd.DataFrame()\n",
    "receiving = pd.DataFrame()\n",
    "\n",
    "for cat in types:\n",
    "    for year in (np.arange(rangeStart-3,rangeEnd + 1,1)[:-1]):\n",
    "        if cat == 'rushing':\n",
    "            #print(str(year) + cat)\n",
    "            funcOutput = getCollegeStats(cat,str(year))\n",
    "            funcOutput['Year'] = year\n",
    "            rushing = pd.concat([rushing,funcOutput])\n",
    "        elif cat == 'passing':\n",
    "            #print(str(year) + cat)\n",
    "            funcOutput = getCollegeStats(cat,str(year))\n",
    "            funcOutput['Year'] = year\n",
    "            passing = pd.concat([passing,funcOutput])\n",
    "        elif cat == 'receiving':\n",
    "            #print(str(year) + cat)\n",
    "            funcOutput = getCollegeStats(cat,str(year))\n",
    "            funcOutput['Year'] = year\n",
    "            receiving = pd.concat([receiving,funcOutput])\n",
    "            \n",
    "def noLink(row):\n",
    "    if row['College Stats Link'] == 'No Link':\n",
    "        return 'No Link ' + row['Player']\n",
    "    else:\n",
    "        return row['College Stats Link']\n",
    "    \n",
    "def combineBench(row):\n",
    "    if type(row['Bench']) != str:\n",
    "        return row['BenchReps']\n",
    "    else:\n",
    "        return row['Bench']\n",
    "\n",
    "def combineBroad(row):\n",
    "    if type(row['Broad Jump']) != str:\n",
    "        return row['BroadJump']\n",
    "    else:\n",
    "        return row['Broad Jump']   \n",
    "    \n",
    "def combineRush(row):\n",
    "    if type(row['Rush TD']) != str:\n",
    "        return row['Rush TDs']\n",
    "    else:\n",
    "        return row['Rush TD']   \n",
    "\n",
    "allYears['College Stats Link'] = allYears.apply(lambda x:noLink(x),axis=1)\n",
    "\n",
    "statLines = allYears.apply(lambda x:meanStats(x),axis=1)\n",
    "allYears = allYears.merge(statLines,how='left',left_on='College Stats Link',right_on = 'Link')\n",
    "allYears.drop(['Link','Player_y','School_y','Year_y'],inplace=True,axis=1)\n",
    "allYears['Player'] = allYears['Player_x']\n",
    "allYears.drop('Player_x',inplace=True,axis=1)\n",
    "allYears['School'] = allYears['School_x']\n",
    "allYears.drop('School_x',inplace=True,axis=1)\n",
    "allYears['Year'] = allYears['Year_x']\n",
    "allYears.drop('Year_x',inplace=True,axis=1)\n",
    "allYears.drop('Rate',inplace=True,axis=1)\n",
    "allYears['Bench'] = allYears.apply(lambda x:combineBench(x),axis=1)\n",
    "allYears['Broad Jump'] = allYears.apply(lambda x:combineBroad(x),axis=1)\n",
    "allYears['Rush TD'] = allYears.apply(lambda x:combineRush(x),axis=1)\n",
    "\n",
    "allYears.drop('BroadJump',inplace=True,axis=1)\n",
    "allYears.drop('BenchReps',inplace=True,axis=1)\n",
    "allYears.drop('Rush TDs',inplace=True,axis=1)\n",
    "\n",
    "    \n",
    "\n"
   ]
  },
  {
   "cell_type": "code",
   "execution_count": 20,
   "metadata": {},
   "outputs": [
    {
     "data": {
      "text/html": [
       "<div>\n",
       "<style>\n",
       "    .dataframe thead tr:only-child th {\n",
       "        text-align: right;\n",
       "    }\n",
       "\n",
       "    .dataframe thead th {\n",
       "        text-align: left;\n",
       "    }\n",
       "\n",
       "    .dataframe tbody tr th {\n",
       "        vertical-align: top;\n",
       "    }\n",
       "</style>\n",
       "<table border=\"1\" class=\"dataframe\">\n",
       "  <thead>\n",
       "    <tr style=\"text-align: right;\">\n",
       "      <th></th>\n",
       "      <th>player</th>\n",
       "      <th>distance</th>\n",
       "    </tr>\n",
       "  </thead>\n",
       "  <tbody>\n",
       "    <tr>\n",
       "      <th>687</th>\n",
       "      <td>Ezekiel Elliott</td>\n",
       "      <td>0.000000</td>\n",
       "    </tr>\n",
       "    <tr>\n",
       "      <th>595</th>\n",
       "      <td>Todd Gurley</td>\n",
       "      <td>0.671088</td>\n",
       "    </tr>\n",
       "    <tr>\n",
       "      <th>101</th>\n",
       "      <td>Keiland Williams</td>\n",
       "      <td>0.753457</td>\n",
       "    </tr>\n",
       "    <tr>\n",
       "      <th>378</th>\n",
       "      <td>Eddie Lacy</td>\n",
       "      <td>0.801169</td>\n",
       "    </tr>\n",
       "    <tr>\n",
       "      <th>751</th>\n",
       "      <td>Jonathan Williams</td>\n",
       "      <td>0.843758</td>\n",
       "    </tr>\n",
       "    <tr>\n",
       "      <th>918</th>\n",
       "      <td>Derrius Guice</td>\n",
       "      <td>0.867836</td>\n",
       "    </tr>\n",
       "    <tr>\n",
       "      <th>116</th>\n",
       "      <td>Stephen Burton</td>\n",
       "      <td>0.889670</td>\n",
       "    </tr>\n",
       "    <tr>\n",
       "      <th>949</th>\n",
       "      <td>Rashaad Penny</td>\n",
       "      <td>0.943686</td>\n",
       "    </tr>\n",
       "    <tr>\n",
       "      <th>69</th>\n",
       "      <td>Brandon Minor</td>\n",
       "      <td>0.986593</td>\n",
       "    </tr>\n",
       "    <tr>\n",
       "      <th>704</th>\n",
       "      <td>Jordan Howard</td>\n",
       "      <td>0.992238</td>\n",
       "    </tr>\n",
       "  </tbody>\n",
       "</table>\n",
       "</div>"
      ],
      "text/plain": [
       "                player  distance\n",
       "687    Ezekiel Elliott  0.000000\n",
       "595        Todd Gurley  0.671088\n",
       "101   Keiland Williams  0.753457\n",
       "378         Eddie Lacy  0.801169\n",
       "751  Jonathan Williams  0.843758\n",
       "918      Derrius Guice  0.867836\n",
       "116     Stephen Burton  0.889670\n",
       "949      Rashaad Penny  0.943686\n",
       "69       Brandon Minor  0.986593\n",
       "704      Jordan Howard  0.992238"
      ]
     },
     "execution_count": 20,
     "metadata": {},
     "output_type": "execute_result"
    }
   ],
   "source": [
    "getPlayerComps('Ezekiel Elliott').head(10)"
   ]
  },
  {
   "cell_type": "code",
   "execution_count": 34,
   "metadata": {},
   "outputs": [
    {
     "data": {
      "text/html": [
       "<div>\n",
       "<style>\n",
       "    .dataframe thead tr:only-child th {\n",
       "        text-align: right;\n",
       "    }\n",
       "\n",
       "    .dataframe thead th {\n",
       "        text-align: left;\n",
       "    }\n",
       "\n",
       "    .dataframe tbody tr th {\n",
       "        vertical-align: top;\n",
       "    }\n",
       "</style>\n",
       "<table border=\"1\" class=\"dataframe\">\n",
       "  <thead>\n",
       "    <tr style=\"text-align: right;\">\n",
       "      <th></th>\n",
       "      <th>player</th>\n",
       "      <th>distance</th>\n",
       "    </tr>\n",
       "  </thead>\n",
       "  <tbody>\n",
       "    <tr>\n",
       "      <th>40</th>\n",
       "      <td>Rob Gronkowski</td>\n",
       "      <td>0.000000</td>\n",
       "    </tr>\n",
       "    <tr>\n",
       "      <th>375</th>\n",
       "      <td>Travis Kelce</td>\n",
       "      <td>0.936420</td>\n",
       "    </tr>\n",
       "    <tr>\n",
       "      <th>699</th>\n",
       "      <td>Tyler Higbee</td>\n",
       "      <td>1.380808</td>\n",
       "    </tr>\n",
       "    <tr>\n",
       "      <th>245</th>\n",
       "      <td>Coby Fleener</td>\n",
       "      <td>1.409135</td>\n",
       "    </tr>\n",
       "    <tr>\n",
       "      <th>816</th>\n",
       "      <td>Jordan Leggett</td>\n",
       "      <td>1.626438</td>\n",
       "    </tr>\n",
       "    <tr>\n",
       "      <th>916</th>\n",
       "      <td>Dallas Goedert</td>\n",
       "      <td>1.661898</td>\n",
       "    </tr>\n",
       "    <tr>\n",
       "      <th>583</th>\n",
       "      <td>AJ Derby</td>\n",
       "      <td>1.745002</td>\n",
       "    </tr>\n",
       "    <tr>\n",
       "      <th>348</th>\n",
       "      <td>Joseph Fauria</td>\n",
       "      <td>1.751240</td>\n",
       "    </tr>\n",
       "    <tr>\n",
       "      <th>31</th>\n",
       "      <td>Brody Eldridge</td>\n",
       "      <td>1.761087</td>\n",
       "    </tr>\n",
       "    <tr>\n",
       "      <th>852</th>\n",
       "      <td>Eric Saubert</td>\n",
       "      <td>1.785275</td>\n",
       "    </tr>\n",
       "  </tbody>\n",
       "</table>\n",
       "</div>"
      ],
      "text/plain": [
       "             player  distance\n",
       "40   Rob Gronkowski  0.000000\n",
       "375    Travis Kelce  0.936420\n",
       "699    Tyler Higbee  1.380808\n",
       "245    Coby Fleener  1.409135\n",
       "816  Jordan Leggett  1.626438\n",
       "916  Dallas Goedert  1.661898\n",
       "583        AJ Derby  1.745002\n",
       "348   Joseph Fauria  1.751240\n",
       "31   Brody Eldridge  1.761087\n",
       "852    Eric Saubert  1.785275"
      ]
     },
     "execution_count": 34,
     "metadata": {},
     "output_type": "execute_result"
    }
   ],
   "source": [
    "getPlayerComps('Rob Gronkowski').head(10)"
   ]
  },
  {
   "cell_type": "code",
   "execution_count": 42,
   "metadata": {},
   "outputs": [
    {
     "data": {
      "text/html": [
       "<div>\n",
       "<style>\n",
       "    .dataframe thead tr:only-child th {\n",
       "        text-align: right;\n",
       "    }\n",
       "\n",
       "    .dataframe thead th {\n",
       "        text-align: left;\n",
       "    }\n",
       "\n",
       "    .dataframe tbody tr th {\n",
       "        vertical-align: top;\n",
       "    }\n",
       "</style>\n",
       "<table border=\"1\" class=\"dataframe\">\n",
       "  <thead>\n",
       "    <tr style=\"text-align: right;\">\n",
       "      <th></th>\n",
       "      <th>player</th>\n",
       "      <th>distance</th>\n",
       "    </tr>\n",
       "  </thead>\n",
       "  <tbody>\n",
       "    <tr>\n",
       "      <th>22</th>\n",
       "      <td>Eric Decker</td>\n",
       "      <td>0.000000</td>\n",
       "    </tr>\n",
       "    <tr>\n",
       "      <th>324</th>\n",
       "      <td>Keenan Allen</td>\n",
       "      <td>1.134389</td>\n",
       "    </tr>\n",
       "    <tr>\n",
       "      <th>495</th>\n",
       "      <td>Cody Latimer</td>\n",
       "      <td>1.173336</td>\n",
       "    </tr>\n",
       "    <tr>\n",
       "      <th>248</th>\n",
       "      <td>Jeff Fuller</td>\n",
       "      <td>1.320621</td>\n",
       "    </tr>\n",
       "    <tr>\n",
       "      <th>0</th>\n",
       "      <td>Danario Alexander</td>\n",
       "      <td>1.364857</td>\n",
       "    </tr>\n",
       "    <tr>\n",
       "      <th>270</th>\n",
       "      <td>Alshon Jeffery</td>\n",
       "      <td>1.475716</td>\n",
       "    </tr>\n",
       "    <tr>\n",
       "      <th>858</th>\n",
       "      <td>JuJu Smith-Schuster</td>\n",
       "      <td>1.483542</td>\n",
       "    </tr>\n",
       "    <tr>\n",
       "      <th>128</th>\n",
       "      <td>Tandon Doss</td>\n",
       "      <td>1.496284</td>\n",
       "    </tr>\n",
       "    <tr>\n",
       "      <th>850</th>\n",
       "      <td>Seth Russell</td>\n",
       "      <td>1.505005</td>\n",
       "    </tr>\n",
       "    <tr>\n",
       "      <th>246</th>\n",
       "      <td>Michael Floyd</td>\n",
       "      <td>1.519546</td>\n",
       "    </tr>\n",
       "  </tbody>\n",
       "</table>\n",
       "</div>"
      ],
      "text/plain": [
       "                  player  distance\n",
       "22           Eric Decker  0.000000\n",
       "324         Keenan Allen  1.134389\n",
       "495         Cody Latimer  1.173336\n",
       "248          Jeff Fuller  1.320621\n",
       "0      Danario Alexander  1.364857\n",
       "270       Alshon Jeffery  1.475716\n",
       "858  JuJu Smith-Schuster  1.483542\n",
       "128          Tandon Doss  1.496284\n",
       "850         Seth Russell  1.505005\n",
       "246        Michael Floyd  1.519546"
      ]
     },
     "execution_count": 42,
     "metadata": {},
     "output_type": "execute_result"
    }
   ],
   "source": [
    "getPlayerComps(\"Eric Decker\").head(10)"
   ]
  },
  {
   "cell_type": "code",
   "execution_count": 68,
   "metadata": {},
   "outputs": [
    {
     "data": {
      "text/html": [
       "<div>\n",
       "<style>\n",
       "    .dataframe thead tr:only-child th {\n",
       "        text-align: right;\n",
       "    }\n",
       "\n",
       "    .dataframe thead th {\n",
       "        text-align: left;\n",
       "    }\n",
       "\n",
       "    .dataframe tbody tr th {\n",
       "        vertical-align: top;\n",
       "    }\n",
       "</style>\n",
       "<table border=\"1\" class=\"dataframe\">\n",
       "  <thead>\n",
       "    <tr style=\"text-align: right;\">\n",
       "      <th></th>\n",
       "      <th>player</th>\n",
       "      <th>distance</th>\n",
       "    </tr>\n",
       "  </thead>\n",
       "  <tbody>\n",
       "    <tr>\n",
       "      <th>573</th>\n",
       "      <td>Tevin Coleman</td>\n",
       "      <td>0.000000</td>\n",
       "    </tr>\n",
       "    <tr>\n",
       "      <th>89</th>\n",
       "      <td>C.J. Spiller</td>\n",
       "      <td>0.940293</td>\n",
       "    </tr>\n",
       "    <tr>\n",
       "      <th>689</th>\n",
       "      <td>Josh Ferguson</td>\n",
       "      <td>1.000141</td>\n",
       "    </tr>\n",
       "    <tr>\n",
       "      <th>943</th>\n",
       "      <td>Sony Michel</td>\n",
       "      <td>1.002952</td>\n",
       "    </tr>\n",
       "    <tr>\n",
       "      <th>188</th>\n",
       "      <td>Brandon Saine</td>\n",
       "      <td>1.020902</td>\n",
       "    </tr>\n",
       "    <tr>\n",
       "      <th>194</th>\n",
       "      <td>Da'Rel Scott</td>\n",
       "      <td>1.060087</td>\n",
       "    </tr>\n",
       "    <tr>\n",
       "      <th>182</th>\n",
       "      <td>Bilal Powell</td>\n",
       "      <td>1.087378</td>\n",
       "    </tr>\n",
       "    <tr>\n",
       "      <th>250</th>\n",
       "      <td>Chris Givens</td>\n",
       "      <td>1.107374</td>\n",
       "    </tr>\n",
       "    <tr>\n",
       "      <th>664</th>\n",
       "      <td>Devontae Booker</td>\n",
       "      <td>1.113799</td>\n",
       "    </tr>\n",
       "    <tr>\n",
       "      <th>317</th>\n",
       "      <td>Fozzy Whittaker</td>\n",
       "      <td>1.139721</td>\n",
       "    </tr>\n",
       "  </tbody>\n",
       "</table>\n",
       "</div>"
      ],
      "text/plain": [
       "              player  distance\n",
       "573    Tevin Coleman  0.000000\n",
       "89      C.J. Spiller  0.940293\n",
       "689    Josh Ferguson  1.000141\n",
       "943      Sony Michel  1.002952\n",
       "188    Brandon Saine  1.020902\n",
       "194     Da'Rel Scott  1.060087\n",
       "182     Bilal Powell  1.087378\n",
       "250     Chris Givens  1.107374\n",
       "664  Devontae Booker  1.113799\n",
       "317  Fozzy Whittaker  1.139721"
      ]
     },
     "execution_count": 68,
     "metadata": {},
     "output_type": "execute_result"
    }
   ],
   "source": [
    "getPlayerComps(\"Tevin Coleman\").head(10)"
   ]
  },
  {
   "cell_type": "code",
   "execution_count": null,
   "metadata": {
    "collapsed": true
   },
   "outputs": [],
   "source": []
  },
  {
   "cell_type": "code",
   "execution_count": null,
   "metadata": {
    "collapsed": true
   },
   "outputs": [],
   "source": []
  },
  {
   "cell_type": "code",
   "execution_count": null,
   "metadata": {
    "collapsed": true
   },
   "outputs": [],
   "source": []
  },
  {
   "cell_type": "code",
   "execution_count": null,
   "metadata": {
    "collapsed": true
   },
   "outputs": [],
   "source": []
  },
  {
   "cell_type": "code",
   "execution_count": null,
   "metadata": {
    "collapsed": true
   },
   "outputs": [],
   "source": []
  },
  {
   "cell_type": "code",
   "execution_count": null,
   "metadata": {
    "collapsed": true
   },
   "outputs": [],
   "source": []
  },
  {
   "cell_type": "code",
   "execution_count": null,
   "metadata": {
    "collapsed": true
   },
   "outputs": [],
   "source": []
  },
  {
   "cell_type": "code",
   "execution_count": null,
   "metadata": {
    "collapsed": true
   },
   "outputs": [],
   "source": []
  },
  {
   "cell_type": "code",
   "execution_count": null,
   "metadata": {
    "collapsed": true,
    "scrolled": false
   },
   "outputs": [],
   "source": []
  },
  {
   "cell_type": "code",
   "execution_count": null,
   "metadata": {
    "collapsed": true
   },
   "outputs": [],
   "source": []
  },
  {
   "cell_type": "raw",
   "metadata": {},
   "source": [
    "\n"
   ]
  },
  {
   "cell_type": "code",
   "execution_count": null,
   "metadata": {
    "collapsed": true
   },
   "outputs": [],
   "source": []
  },
  {
   "cell_type": "code",
   "execution_count": null,
   "metadata": {
    "collapsed": true
   },
   "outputs": [],
   "source": []
  },
  {
   "cell_type": "code",
   "execution_count": null,
   "metadata": {
    "collapsed": true
   },
   "outputs": [],
   "source": []
  },
  {
   "cell_type": "code",
   "execution_count": null,
   "metadata": {
    "collapsed": true
   },
   "outputs": [],
   "source": []
  },
  {
   "cell_type": "code",
   "execution_count": null,
   "metadata": {
    "collapsed": true
   },
   "outputs": [],
   "source": []
  },
  {
   "cell_type": "code",
   "execution_count": null,
   "metadata": {
    "collapsed": true
   },
   "outputs": [],
   "source": []
  },
  {
   "cell_type": "code",
   "execution_count": null,
   "metadata": {
    "collapsed": true
   },
   "outputs": [],
   "source": []
  },
  {
   "cell_type": "code",
   "execution_count": null,
   "metadata": {
    "collapsed": true
   },
   "outputs": [],
   "source": []
  },
  {
   "cell_type": "code",
   "execution_count": null,
   "metadata": {
    "collapsed": true
   },
   "outputs": [],
   "source": []
  }
 ],
 "metadata": {
  "kernelspec": {
   "display_name": "Python 2",
   "language": "python",
   "name": "python2"
  },
  "language_info": {
   "codemirror_mode": {
    "name": "ipython",
    "version": 2
   },
   "file_extension": ".py",
   "mimetype": "text/x-python",
   "name": "python",
   "nbconvert_exporter": "python",
   "pygments_lexer": "ipython2",
   "version": "2.7.13"
  }
 },
 "nbformat": 4,
 "nbformat_minor": 2
}
